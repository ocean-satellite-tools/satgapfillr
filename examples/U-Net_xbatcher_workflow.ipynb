{
 "cells": [
  {
   "cell_type": "markdown",
   "metadata": {},
   "source": [
    "# U-Net xbatcher Workflow Example"
   ]
  },
  {
   "cell_type": "code",
   "execution_count": null,
   "metadata": {},
   "outputs": [],
   "source": [
    "import satgapfillr as sgf
",
    "ds = sgf.read_data("mydata.zarr")
",
    "
",
    "batcher = sgf.make_batcher(ds, input_dims={"time": 1}, input_overlap={"time": 0}, batch_size=32)
",
    "tf_ds = sgf.make_tf_dataset(batcher)
",
    "
",
    "model = sgf.UNetGapFiller(input_shape=(64, 64, 4))
",
    "model.fit(tf_ds, epochs=5)"
   ]
  }
 ],
 "metadata": {},
 "nbformat": 4,
 "nbformat_minor": 2
}